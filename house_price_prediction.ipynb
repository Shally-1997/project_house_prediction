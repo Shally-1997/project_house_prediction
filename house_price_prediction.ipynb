{
 "cells": [
  {
   "cell_type": "markdown",
   "id": "fcd31de2",
   "metadata": {},
   "source": [
    "\n",
    "# Data Loading and Initial Exploration\n",
    "## loading data from CSV file"
   ]
  },
  {
   "cell_type": "code",
   "execution_count": 6,
   "id": "32e27270",
   "metadata": {},
   "outputs": [],
   "source": [
    "import pandas as pd\n",
    "import numpy as np\n",
    "import matplotlib.pyplot as plt\n",
    "import seaborn as sns"
   ]
  },
  {
   "cell_type": "code",
   "execution_count": 2,
   "id": "5ebf3a5f",
   "metadata": {},
   "outputs": [],
   "source": [
    "df = pd.read_csv('dataset.csv')"
   ]
  },
  {
   "cell_type": "code",
   "execution_count": 5,
   "id": "ae93807e",
   "metadata": {},
   "outputs": [
    {
     "name": "stdout",
     "output_type": "stream",
     "text": [
      "Dataset Shape (200000, 47)\n",
      "\n",
      "Target variable sale_price statistics:\n",
      "count    2.000000e+05\n",
      "mean     5.841495e+05\n",
      "std      4.170595e+05\n",
      "min      5.029300e+04\n",
      "25%      3.050000e+05\n",
      "50%      4.599500e+05\n",
      "75%      7.249500e+05\n",
      "max      2.999950e+06\n",
      "Name: sale_price, dtype: float64\n",
      "\n",
      "Price Range: 50,293 - 2,999,950\n"
     ]
    }
   ],
   "source": [
    "# Basic dataset info\n",
    "print(\"Dataset Shape\", df.shape)\n",
    "print(\"\\nTarget variable sale_price statistics:\")\n",
    "print(df['sale_price'].describe())\n",
    "print(f\"\\nPrice Range: {df['sale_price'].min():,.0f} - {df['sale_price'].max():,.0f}\")"
   ]
  },
  {
   "cell_type": "markdown",
   "id": "74852c62",
   "metadata": {},
   "source": [
    "## Data Quality Assessment"
   ]
  },
  {
   "cell_type": "code",
   "execution_count": 7,
   "id": "b7a2514f",
   "metadata": {},
   "outputs": [
    {
     "name": "stdout",
     "output_type": "stream",
     "text": [
      "\n",
      "Missing values in dataset:\n",
      "             Missing Values  Percentage\n",
      "sale_nbr              42182     21.0910\n",
      "subdivision           17550      8.7750\n",
      "submarket              1717      0.8585\n"
     ]
    }
   ],
   "source": [
    "# Checking for missing values\n",
    "print(\"\\nMissing values in dataset:\")\n",
    "missing_values = df.isnull().sum()\n",
    "missing_values_perc = (missing_values/len(df))*100\n",
    "missing_df =  pd.DataFrame({\n",
    "    'Missing Values': missing_values,\n",
    "    'Percentage': missing_values_perc\n",
    "}).sort_values(by='Missing Values', ascending=False)\n",
    "\n",
    "print(missing_df[missing_df['Missing Values'] > 0])"
   ]
  },
  {
   "cell_type": "code",
   "execution_count": 8,
   "id": "341e6c2a",
   "metadata": {},
   "outputs": [
    {
     "name": "stdout",
     "output_type": "stream",
     "text": [
      "\n",
      "Duplicated values:0\n"
     ]
    }
   ],
   "source": [
    "# Duplicates values\n",
    "\n",
    "print(f\"\\nDuplicated values:{df.duplicated().sum()}\")"
   ]
  },
  {
   "cell_type": "code",
   "execution_count": null,
   "id": "aab4c458",
   "metadata": {},
   "outputs": [],
   "source": []
  }
 ],
 "metadata": {
  "kernelspec": {
   "display_name": "Python 3",
   "language": "python",
   "name": "python3"
  },
  "language_info": {
   "codemirror_mode": {
    "name": "ipython",
    "version": 3
   },
   "file_extension": ".py",
   "mimetype": "text/x-python",
   "name": "python",
   "nbconvert_exporter": "python",
   "pygments_lexer": "ipython3",
   "version": "3.13.2"
  }
 },
 "nbformat": 4,
 "nbformat_minor": 5
}
